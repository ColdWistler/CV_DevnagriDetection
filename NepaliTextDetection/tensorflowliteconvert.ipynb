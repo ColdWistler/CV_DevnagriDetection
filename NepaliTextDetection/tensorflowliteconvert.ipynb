{
 "cells": [
  {
   "cell_type": "code",
   "execution_count": 1,
   "id": "dd5c49b1-aa12-4871-a857-288a3e4d3268",
   "metadata": {},
   "outputs": [
    {
     "name": "stderr",
     "output_type": "stream",
     "text": [
      "2025-03-03 13:17:33.115735: E external/local_xla/xla/stream_executor/cuda/cuda_fft.cc:477] Unable to register cuFFT factory: Attempting to register factory for plugin cuFFT when one has already been registered\n",
      "WARNING: All log messages before absl::InitializeLog() is called are written to STDERR\n",
      "E0000 00:00:1740987153.221540    5681 cuda_dnn.cc:8310] Unable to register cuDNN factory: Attempting to register factory for plugin cuDNN when one has already been registered\n",
      "E0000 00:00:1740987153.241838    5681 cuda_blas.cc:1418] Unable to register cuBLAS factory: Attempting to register factory for plugin cuBLAS when one has already been registered\n",
      "2025-03-03 13:17:33.343624: I tensorflow/core/platform/cpu_feature_guard.cc:210] This TensorFlow binary is optimized to use available CPU instructions in performance-critical operations.\n",
      "To enable the following instructions: AVX2 FMA, in other operations, rebuild TensorFlow with the appropriate compiler flags.\n",
      "I0000 00:00:1740987156.623386    5681 gpu_device.cc:2022] Created device /job:localhost/replica:0/task:0/device:GPU:0 with 4596 MB memory:  -> device: 0, name: NVIDIA GeForce RTX 2060, pci bus id: 0000:01:00.0, compute capability: 7.5\n"
     ]
    },
    {
     "name": "stdout",
     "output_type": "stream",
     "text": [
      "INFO:tensorflow:Assets written to: /tmp/tmpuhmt7ynb/assets\n"
     ]
    },
    {
     "name": "stderr",
     "output_type": "stream",
     "text": [
      "INFO:tensorflow:Assets written to: /tmp/tmpuhmt7ynb/assets\n"
     ]
    },
    {
     "name": "stdout",
     "output_type": "stream",
     "text": [
      "Saved artifact at '/tmp/tmpuhmt7ynb'. The following endpoints are available:\n",
      "\n",
      "* Endpoint 'serve'\n",
      "  args_0 (POSITIONAL_ONLY): TensorSpec(shape=(None, 32, 32, 3), dtype=tf.float32, name='input_layer_1')\n",
      "Output Type:\n",
      "  TensorSpec(shape=(None, 46), dtype=tf.float32, name=None)\n",
      "Captures:\n",
      "  123383461833184: TensorSpec(shape=(), dtype=tf.resource, name=None)\n",
      "  123383461832656: TensorSpec(shape=(), dtype=tf.resource, name=None)\n",
      "  123383462021072: TensorSpec(shape=(), dtype=tf.resource, name=None)\n",
      "  123383462020016: TensorSpec(shape=(), dtype=tf.resource, name=None)\n",
      "  123383434170208: TensorSpec(shape=(), dtype=tf.resource, name=None)\n",
      "  123383434199984: TensorSpec(shape=(), dtype=tf.resource, name=None)\n",
      "  123383434219008: TensorSpec(shape=(), dtype=tf.resource, name=None)\n",
      "  123383434217952: TensorSpec(shape=(), dtype=tf.resource, name=None)\n",
      "  123383406417872: TensorSpec(shape=(), dtype=tf.resource, name=None)\n",
      "  123383406417520: TensorSpec(shape=(), dtype=tf.resource, name=None)\n",
      "  123383406515296: TensorSpec(shape=(), dtype=tf.resource, name=None)\n",
      "  123383406515120: TensorSpec(shape=(), dtype=tf.resource, name=None)\n",
      "  123383406638176: TensorSpec(shape=(), dtype=tf.resource, name=None)\n",
      "  123383406638000: TensorSpec(shape=(), dtype=tf.resource, name=None)\n",
      "Model successfully converted to optimized TensorFlow Lite format.\n"
     ]
    },
    {
     "name": "stderr",
     "output_type": "stream",
     "text": [
      "WARNING: All log messages before absl::InitializeLog() is called are written to STDERR\n",
      "W0000 00:00:1740987157.942799    5681 tf_tfl_flatbuffer_helpers.cc:365] Ignored output_format.\n",
      "W0000 00:00:1740987157.942820    5681 tf_tfl_flatbuffer_helpers.cc:368] Ignored drop_control_dependency.\n",
      "2025-03-03 13:17:37.943342: I tensorflow/cc/saved_model/reader.cc:83] Reading SavedModel from: /tmp/tmpuhmt7ynb\n",
      "2025-03-03 13:17:37.946334: I tensorflow/cc/saved_model/reader.cc:52] Reading meta graph with tags { serve }\n",
      "2025-03-03 13:17:37.946351: I tensorflow/cc/saved_model/reader.cc:147] Reading SavedModel debug info (if present) from: /tmp/tmpuhmt7ynb\n",
      "I0000 00:00:1740987157.957267    5681 mlir_graph_optimization_pass.cc:401] MLIR V1 optimization pass is not enabled\n",
      "2025-03-03 13:17:37.959904: I tensorflow/cc/saved_model/loader.cc:236] Restoring SavedModel bundle.\n",
      "2025-03-03 13:17:38.008201: I tensorflow/cc/saved_model/loader.cc:220] Running initialization op on SavedModel bundle at path: /tmp/tmpuhmt7ynb\n",
      "2025-03-03 13:17:38.031346: I tensorflow/cc/saved_model/loader.cc:466] SavedModel load for tags { serve }; Status: success: OK. Took 88008 microseconds.\n",
      "2025-03-03 13:17:38.046278: I tensorflow/compiler/mlir/tensorflow/utils/dump_mlir_util.cc:268] disabling MLIR crash reproducer, set env var `MLIR_CRASH_REPRODUCER_DIRECTORY` to enable.\n"
     ]
    }
   ],
   "source": [
    "import tensorflow as tf\n",
    "from keras.models import load_model\n",
    "\n",
    "# Load the trained model\n",
    "model = load_model(\"devnagri_character_model.keras\")\n",
    "\n",
    "# Convert the model to TensorFlow Lite format with optimizations\n",
    "converter = tf.lite.TFLiteConverter.from_keras_model(model)\n",
    "converter.optimizations = [tf.lite.Optimize.DEFAULT]  # Enable default optimizations\n",
    "\n",
    "# Convert the model\n",
    "tflite_model = converter.convert()\n",
    "\n",
    "# Save the converted model\n",
    "with open(\"devnagri_character_model.tflite\", \"wb\") as f:\n",
    "    f.write(tflite_model)\n",
    "\n",
    "print(\"Model successfully converted to optimized TensorFlow Lite format.\")"
   ]
  },
  {
   "cell_type": "code",
   "execution_count": null,
   "id": "40e2aed2-7f61-432a-8fed-5e200cce529e",
   "metadata": {},
   "outputs": [],
   "source": []
  }
 ],
 "metadata": {
  "kernelspec": {
   "display_name": "Python 3 (ipykernel)",
   "language": "python",
   "name": "python3"
  },
  "language_info": {
   "codemirror_mode": {
    "name": "ipython",
    "version": 3
   },
   "file_extension": ".py",
   "mimetype": "text/x-python",
   "name": "python",
   "nbconvert_exporter": "python",
   "pygments_lexer": "ipython3",
   "version": "3.9.21"
  }
 },
 "nbformat": 4,
 "nbformat_minor": 5
}
